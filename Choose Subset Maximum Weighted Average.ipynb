{
 "cells": [
  {
   "cell_type": "markdown",
   "metadata": {},
   "source": [
    "# Choosing Subsets with Maximum Weighted Average\n",
    "### (Newton Iteration Method)\n",
    "https://www.ics.uci.edu/~eppstein/pubs/EppHir-TR-95-12.pdf"
   ]
  },
  {
   "cell_type": "markdown",
   "metadata": {},
   "source": [
    "### Let $S$ be the set of grade score values and weights of each lesson.\n",
    "### $S:\\{(v_1,w_1),(v_1,w_1),...,(v_n,w_n)\\}$  \n",
    "### $v_i$ score value of lesson $i$\n",
    "### $w_i$ score weight of lesson $i$\n",
    "\n",
    "### Let $n$ be the number of elements in $S$, such that $|S| = n$, and $k$ be the number of elements to exclude from the chosen subset.\n",
    "Suppose that some $(n − k)$-element set $T ⊂ S$ has weighted average at least $A$.  \n",
    "We can write this as an inequality of the form:\n",
    "# $A \\leq A(T) = \\frac{\\sum_{i\\in T}v_i}{\\sum_{i\\in T}w_i}$\n",
    "Assume that all weights are positive, can rewrite as:  \n",
    "# $\\sum\\limits_{i\\in T}(v_i-Aw_i)\\geq 0$\n",
    "\n",
    "ie. If some $T$ has a weighted average greater than or equal to some value $A$, then $\\sum\\limits_{i\\in T}(v_i-Aw_i)\\geq 0$\n",
    "\n",
    "For each lesson score $i$, define the decreasing linear function:\n",
    "### $f_i(A)=v_i - Aw_i$\n",
    "then also define:\n",
    "### $F(A) = \\max\\limits_{|T|=n-k}\\sum\\limits_{i\\in T}f_i(A)$\n",
    "Which can be computed by selecting the $n-k$ largest values of $f_i(A)$ from above\n",
    "### $F(A)$ is a piecewise linear decreasing function since it is the maximum of ${n \\choose n-k}$ decreasing linear functions. Thus we can simply find the root of F(A) using Newton iteration method."
   ]
  },
  {
   "cell_type": "code",
   "execution_count": 92,
   "metadata": {},
   "outputs": [],
   "source": [
    "import numpy as np\n",
    "import time"
   ]
  },
  {
   "cell_type": "code",
   "execution_count": 289,
   "metadata": {},
   "outputs": [
    {
     "data": {
      "text/plain": [
       "[(5.0, 5.0),\n",
       " (11.25, 45.0),\n",
       " (11.25, 45.0),\n",
       " (0.0, 5.0),\n",
       " (7.5, 30.0),\n",
       " (15.0, 20.0),\n",
       " (7.5, 15.0),\n",
       " (15.0, 30.0),\n",
       " (3.75, 5.0),\n",
       " (22.5, 45.0),\n",
       " (22.5, 45.0),\n",
       " (15.0, 15.0),\n",
       " (7.5, 30.0),\n",
       " (1.25, 5.0)]"
      ]
     },
     "execution_count": 289,
     "metadata": {},
     "output_type": "execute_result"
    }
   ],
   "source": [
    "real_scores = [4.0,1.0,1.0,0.0,1.0,3.0,2.0,2.0,3.0,2.0,2.0,4.0,1.0,1.0]\n",
    "max_scores =  [4.0,4.0,4.0,4.0,4.0,4.0,4.0,4.0,4.0,4.0,4.0,4.0,4.0,4.0]\n",
    "weights =     [5.0,45.0,45.0,5.0,30.0,20.0,15.0,30.0,5.0,45.0,45.0,15.0,30.0,5.0]\n",
    "\n",
    "score_weights = [(weights[i]*real_scores[i]/max_scores[i],weights[i]) for i in range(len(real_scores))]\n",
    "score_weights"
   ]
  },
  {
   "cell_type": "code",
   "execution_count": 290,
   "metadata": {},
   "outputs": [
    {
     "name": "stdout",
     "output_type": "stream",
     "text": [
      "Final Score (#/#) : 145.0 / 340.0\n",
      "Final Score (%)   : 0.4264705882352941\n"
     ]
    }
   ],
   "source": [
    "norm_score = sum([score_weights[i][0] for i in range(len(score_weights))])\n",
    "norm_max_score = sum([score_weights[i][1] for i in range(len(score_weights))])\n",
    "print(\"Final Score (#/#) :\", norm_score,\"/\",norm_max_score)\n",
    "\n",
    "percentage_score = norm_score/norm_max_score\n",
    "print(\"Final Score (%)   :\",percentage_score)"
   ]
  },
  {
   "cell_type": "code",
   "execution_count": 303,
   "metadata": {},
   "outputs": [],
   "source": [
    "# choose = (n-k)\n",
    "n = len(real_scores)\n",
    "k = 11\n",
    "choose = n-k\n",
    "\n",
    "# Calculated Weighted Average of A Subset\n",
    "def A(set_T):\n",
    "    scores = [score_weights[i][0] for i in set_T]\n",
    "    weights = [score_weights[i][1] for i in set_T]\n",
    "    \n",
    "    # Return weighted average\n",
    "    if sum(weights) != 0:\n",
    "        weighted_avg = sum(scores)/sum(weights)\n",
    "        return weighted_avg\n",
    "    \n",
    "    # If set_T is an empty or unweighted set of scores\n",
    "    else:\n",
    "        return 0\n",
    "\n",
    "# Get f_i scores for a given (current iteration's) weighted average\n",
    "def get_fi_a(a):\n",
    "    \n",
    "    # f_i(a) = v_i - a*w_i\n",
    "    return np.asarray([sw[0] for sw in score_weights]) - a*np.asarray([sw[1] for sw in score_weights])\n",
    "\n",
    "# Get Subset which maximizes improvement over current weighted average\n",
    "def F(a):\n",
    "    \n",
    "    # Get f_i scores for a given (current iteration's) weighted average, a\n",
    "    fi_a = get_fi_a(a)\n",
    "    \n",
    "    # Get (n-k) highest f_i scores\n",
    "    best_set = np.argpartition(fi_a,-choose)[-choose:]\n",
    "    \n",
    "    return best_set"
   ]
  },
  {
   "cell_type": "code",
   "execution_count": 405,
   "metadata": {},
   "outputs": [
    {
     "name": "stdout",
     "output_type": "stream",
     "text": [
      "\n",
      "T_0 [9 6 4]\n",
      "Weighted Avg of T_0: 0.4166666666666667\n",
      "\n",
      "T_1 [ 9  5 11]\n",
      "Weighted Avg of T_1: 0.65625\n",
      "\n",
      "T_2 [ 0  5 11]\n",
      "Weighted Avg of T_2: 0.875\n",
      "\n",
      "T_3 [ 8  0 11]\n",
      "Weighted Avg of T_3: 0.95\n",
      "\n",
      "T_4 [ 8  0 11]\n",
      "Weighted Avg of T_4: 0.95\n"
     ]
    }
   ],
   "source": [
    "# T_i = T_0\n",
    "T = np.random.choice(np.asarray((range(n))), replace=False, size=choose)\n",
    "\n",
    "# Weighted Avg of Initial Subset\n",
    "print(\"\\nT_0\",T)\n",
    "print(\"Weighted Avg of T_0:\", A(T))\n",
    "\n",
    "# T_i_plus_1\n",
    "T_prev = np.asarray([])\n",
    "i=0\n",
    "while A(T) != A(T_prev):\n",
    "    T_prev = T    \n",
    "    T = F(A(T_prev))\n",
    "    print(\"\\nT_\"+str(i+1),T)\n",
    "    print(\"Weighted Avg of T_\"+str(i+1)+\":\", A(T))\n",
    "    i+=1"
   ]
  }
 ],
 "metadata": {
  "kernelspec": {
   "display_name": "Python 3",
   "language": "python",
   "name": "python3"
  },
  "language_info": {
   "codemirror_mode": {
    "name": "ipython",
    "version": 3
   },
   "file_extension": ".py",
   "mimetype": "text/x-python",
   "name": "python",
   "nbconvert_exporter": "python",
   "pygments_lexer": "ipython3",
   "version": "3.6.8"
  }
 },
 "nbformat": 4,
 "nbformat_minor": 2
}
